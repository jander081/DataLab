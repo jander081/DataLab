{
 "cells": [
  {
   "cell_type": "markdown",
   "metadata": {},
   "source": [
    "## SVD"
   ]
  },
  {
   "cell_type": "markdown",
   "metadata": {},
   "source": [
    "Where A is the real m x n matrix that we wish to decompose, U is an m x m matrix, Sigma (often represented by the uppercase Greek letter Sigma) is an m x n diagonal matrix, and V^T is the  transpose of an n x n matrix where T is a superscript."
   ]
  },
  {
   "cell_type": "code",
   "execution_count": 1,
   "metadata": {},
   "outputs": [],
   "source": [
    "# EXPERIMENT WITH THE SVD FUNCTION\n",
    "import numpy as np\n",
    "import math"
   ]
  },
  {
   "cell_type": "code",
   "execution_count": 2,
   "metadata": {},
   "outputs": [
    {
     "name": "stdout",
     "output_type": "stream",
     "text": [
      "[[1 2]\n",
      " [3 4]\n",
      " [5 6]]\n",
      "[[-0.2298477   0.88346102  0.40824829]\n",
      " [-0.52474482  0.24078249 -0.81649658]\n",
      " [-0.81964194 -0.40189603  0.40824829]]\n",
      "[9.52551809 0.51430058]\n",
      "[[-0.61962948 -0.78489445]\n",
      " [-0.78489445  0.61962948]]\n"
     ]
    }
   ],
   "source": [
    "# Singular-value decomposition\n",
    "from numpy import array\n",
    "from scipy.linalg import svd\n",
    "# define a matrix\n",
    "A = array([[1, 2], [3, 4], [5, 6]])\n",
    "print(A)\n",
    "# SVD\n",
    "U, s, VT = svd(A)\n",
    "print(U)\n",
    "print(s)\n",
    "print(VT)"
   ]
  },
  {
   "cell_type": "code",
   "execution_count": null,
   "metadata": {},
   "outputs": [],
   "source": [
    "A = array([[2, 2], [-1, 1]])\n",
    "\n",
    "Z = array([[0, 0], [0, 2]])\n",
    "\n",
    "z_hat = A+Z\n",
    "\n",
    "np.transpose(A)\n",
    "\n",
    "a = np.matmul(np.transpose(A), A)\n",
    "\n",
    "np.linalg.eig(a)\n",
    "\n",
    "1/math.sqrt(2) # normalized the eigenvectors\n",
    "\n",
    "v_1 = array([1/math.sqrt(2), 1/math.sqrt(2)])\n",
    "\n",
    "v_1.shape\n",
    "\n",
    "v_2 = array([-1/math.sqrt(2), 1/math.sqrt(2)])\n",
    "\n",
    "\n",
    "\n",
    "# FOR EIGENS, NEED TO MATMUL THE MATRIX FIRST\n",
    "a = np.matmul(np.transpose(A), A)\n",
    "np.linalg.eig(a)\n",
    "# np.linalg.eigvals(a)\n"
   ]
  },
  {
   "cell_type": "code",
   "execution_count": 69,
   "metadata": {},
   "outputs": [
    {
     "data": {
      "text/plain": [
       "array([[ 2,  2],\n",
       "       [-1,  1]])"
      ]
     },
     "execution_count": 69,
     "metadata": {},
     "output_type": "execute_result"
    }
   ],
   "source": [
    "A = array([[2, 2], [-1, 1]])\n",
    "A"
   ]
  },
  {
   "cell_type": "code",
   "execution_count": 195,
   "metadata": {},
   "outputs": [
    {
     "data": {
      "text/plain": [
       "array([[1., 0.],\n",
       "       [0., 1.]])"
      ]
     },
     "execution_count": 195,
     "metadata": {},
     "output_type": "execute_result"
    }
   ],
   "source": [
    "I = np.identity(2)\n",
    "I"
   ]
  },
  {
   "cell_type": "code",
   "execution_count": 272,
   "metadata": {},
   "outputs": [
    {
     "data": {
      "text/plain": [
       "array([[ 0.        ,  0.        ],\n",
       "       [ 0.        , -0.51649845]])"
      ]
     },
     "execution_count": 272,
     "metadata": {},
     "output_type": "execute_result"
    }
   ],
   "source": [
    "# Z_old = np.zeros((2, 2))\n",
    "Z_old"
   ]
  },
  {
   "cell_type": "code",
   "execution_count": null,
   "metadata": {},
   "outputs": [],
   "source": [
    "u, d, vt = svd(A)\n",
    "\n",
    "D = d * I\n",
    "D"
   ]
  },
  {
   "cell_type": "code",
   "execution_count": 94,
   "metadata": {},
   "outputs": [],
   "source": [
    "uD = np.matmul(u, D)"
   ]
  },
  {
   "cell_type": "code",
   "execution_count": 95,
   "metadata": {},
   "outputs": [
    {
     "data": {
      "text/plain": [
       "array([[ 2.,  2.],\n",
       "       [-1.,  1.]])"
      ]
     },
     "execution_count": 95,
     "metadata": {},
     "output_type": "execute_result"
    }
   ],
   "source": [
    "np.matmul(uD, vt)"
   ]
  },
  {
   "cell_type": "code",
   "execution_count": 103,
   "metadata": {},
   "outputs": [],
   "source": [
    "h = .5"
   ]
  },
  {
   "cell_type": "code",
   "execution_count": 104,
   "metadata": {},
   "outputs": [],
   "source": [
    "thres = D - h # set all negatives to 0"
   ]
  },
  {
   "cell_type": "markdown",
   "metadata": {},
   "source": [
    "## SOFT THRESHOLDING"
   ]
  },
  {
   "cell_type": "code",
   "execution_count": 322,
   "metadata": {},
   "outputs": [],
   "source": [
    "# EASIER EXAMPLE TO ILLUSTRATE THE METHOD. THE MATRIX IS A 2X2 MISSING THE BOTTOM RIGHT ENTRY (SET TO ZERO FOR EASE)\n",
    "X = array([[2, 2], [-1, 0]]) # (1,1) element = 0 = nan"
   ]
  },
  {
   "cell_type": "code",
   "execution_count": 340,
   "metadata": {},
   "outputs": [],
   "source": [
    "def simple_svt(X, h): \n",
    "    \n",
    "    '''Very basic svt for a 2x2 matrix with the (1, 1) element (only) missing'''\n",
    "    \n",
    "    I = np.identity(2)\n",
    "     \n",
    "\n",
    "    def svt(X, Z_old_com):\n",
    "        X_hat = X + Z_old_com\n",
    "        u, d, vt = svd(X_hat)\n",
    "        S_D = (d * I) - h        \n",
    "        S_D[S_D < 0] = 0\n",
    "        uS_D = np.matmul(u, S_D)\n",
    "        Z_new = np.matmul(uS_D, vt)\n",
    "        return(Z_new)    \n",
    "    def complement(Z):\n",
    "        z_element = Z.item((1,1))\n",
    "        # If not below tau, yank the approximated missing value\n",
    "        # Update as the complementary matrix. All none approximated entries should be zero\n",
    "        \n",
    "        Z_com = np.zeros((2, 2))\n",
    "        Z_com[1][1] = z_element   \n",
    "        return(Z_com)            \n",
    "    def norm(dframe):\n",
    "        set_ = []\n",
    "        for item in dframe.reshape(1, 4):\n",
    "            set_.append(item**2)\n",
    "        return(np.sum(set_))\n",
    "    \n",
    "    Z_old = np.zeros((2, 2))\n",
    "    Z_old_com = complement(Z_old)\n",
    "    Z_new = svt(X, Z_old_com)\n",
    "      \n",
    "    # prevents denominator from being = 0\n",
    "    tau = norm(Z_new - Z_old)/(norm(Z_old) + 1e-7)\n",
    "    print(tau)\n",
    "    while tau > .001:\n",
    "                \n",
    "        print('nope')\n",
    "        Z_old = Z_new\n",
    "        Z_old_com = complement(Z_old)\n",
    "        Z_new = svt(X, Z_old_com)\n",
    "        \n",
    "        tau = norm(Z_new - Z_old)/(norm(Z_old) + 1e-7)\n",
    "        print(tau)\n",
    "    X_complete = X + complement(Z_new)\n",
    "    return(X_complete)\n",
    "    # Start over\n"
   ]
  },
  {
   "cell_type": "code",
   "execution_count": 341,
   "metadata": {},
   "outputs": [
    {
     "name": "stdout",
     "output_type": "stream",
     "text": [
      "58944487.2453601\n",
      "nope\n",
      "0.0098605516956873\n",
      "nope\n",
      "0.0030850033412746216\n",
      "nope\n",
      "0.0005320877880837324\n"
     ]
    },
    {
     "data": {
      "text/plain": [
       "array([[ 2.       ,  2.       ],\n",
       "       [-1.       , -0.6566291]])"
      ]
     },
     "execution_count": 341,
     "metadata": {},
     "output_type": "execute_result"
    }
   ],
   "source": [
    "# GOOD TIMES!\n",
    "simple_svt(X, .5)"
   ]
  },
  {
   "cell_type": "code",
   "execution_count": null,
   "metadata": {},
   "outputs": [],
   "source": []
  }
 ],
 "metadata": {
  "kernelspec": {
   "display_name": "Python 3",
   "language": "python",
   "name": "python3"
  },
  "language_info": {
   "codemirror_mode": {
    "name": "ipython",
    "version": 3
   },
   "file_extension": ".py",
   "mimetype": "text/x-python",
   "name": "python",
   "nbconvert_exporter": "python",
   "pygments_lexer": "ipython3",
   "version": "3.6.6"
  }
 },
 "nbformat": 4,
 "nbformat_minor": 2
}
